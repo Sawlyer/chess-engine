{
 "cells": [
  {
   "cell_type": "markdown",
   "metadata": {},
   "source": [
    "# Chess Engine with PyTorch"
   ]
  },
  {
   "cell_type": "markdown",
   "metadata": {},
   "source": [
    "## Imports"
   ]
  },
  {
   "cell_type": "code",
   "execution_count": 1,
   "metadata": {},
   "outputs": [],
   "source": [
    "import os\n",
    "import numpy as np \n",
    "import time\n",
    "import torch\n",
    "import torch.nn as nn \n",
    "import torch.optim as optim \n",
    "from torch.utils.data import DataLoader     \n",
    "from chess import pgn \n",
    "from tqdm import tqdm \n",
    "import chess\n",
    "from auxiliary_func import create_input_for_nn, encode_moves\n",
    "from dataset import ChessDataset\n",
    "from model import ChessModel\n",
    "from multiprocessing import Pool, cpu_count"
   ]
  },
  {
   "cell_type": "code",
   "execution_count": 2,
   "metadata": {},
   "outputs": [
    {
     "name": "stdout",
     "output_type": "stream",
     "text": [
      "pid 168115's current affinity mask: fffff\n",
      "pid 168115's new affinity mask: ff\n"
     ]
    },
    {
     "data": {
      "text/plain": [
       "0"
      ]
     },
     "execution_count": 2,
     "metadata": {},
     "output_type": "execute_result"
    }
   ],
   "source": [
    "os.system(\"taskset -p 0xff %d\" % os.getpid())"
   ]
  },
  {
   "cell_type": "markdown",
   "metadata": {},
   "source": [
    "# Data preprocessing"
   ]
  },
  {
   "cell_type": "markdown",
   "metadata": {},
   "source": [
    "## Load data"
   ]
  },
  {
   "cell_type": "code",
   "execution_count": 3,
   "metadata": {},
   "outputs": [
    {
     "name": "stderr",
     "output_type": "stream",
     "text": [
      "Loading PGN files: 100%|██████████| 1/1 [00:16<00:00, 16.41s/it]"
     ]
    },
    {
     "name": "stdout",
     "output_type": "stream",
     "text": [
      "GAMES PARSED: 10000\n"
     ]
    },
    {
     "name": "stderr",
     "output_type": "stream",
     "text": [
      "\n"
     ]
    }
   ],
   "source": [
    "def load_pgn(file_path, limit_per_file=None):\n",
    "    games = []\n",
    "    with open(file_path, 'r') as pgn_file:\n",
    "        count = 0\n",
    "        while True:\n",
    "            game = pgn.read_game(pgn_file)\n",
    "            if game is None:\n",
    "                break\n",
    "            games.append(game)\n",
    "            count += 1\n",
    "            if limit_per_file is not None and count >= limit_per_file:\n",
    "                break\n",
    "    return games\n",
    "\n",
    "# Lister tous les fichiers PGN\n",
    "files = [file for file in os.listdir(\"../data/pgn\") if file.endswith(\".pgn\")]\n",
    "LIMIT_OF_FILES = min(len(files), 28)\n",
    "LIMIT_PER_FILE = 10000  # Limite de parties par fichier\n",
    "\n",
    "# Charger les fichiers avec une barre de progression\n",
    "games = []\n",
    "for i, file in enumerate(tqdm(files[:LIMIT_OF_FILES], desc=\"Loading PGN files\")):\n",
    "    games.extend(load_pgn(f\"../data/pgn/{file}\", limit_per_file=LIMIT_PER_FILE))\n",
    "\n",
    "print(f\"GAMES PARSED: {len(games)}\")"
   ]
  },
  {
   "cell_type": "code",
   "execution_count": 4,
   "metadata": {},
   "outputs": [
    {
     "name": "stdout",
     "output_type": "stream",
     "text": [
      "GAMES PARSED: 10000\n"
     ]
    }
   ],
   "source": [
    "print(f\"GAMES PARSED: {len(games)}\")"
   ]
  },
  {
   "cell_type": "markdown",
   "metadata": {},
   "source": [
    "## Convert data into tensors"
   ]
  },
  {
   "cell_type": "code",
   "execution_count": 5,
   "metadata": {},
   "outputs": [
    {
     "name": "stdout",
     "output_type": "stream",
     "text": [
      "NUMBER OF SAMPLES: 840640\n"
     ]
    }
   ],
   "source": [
    "X, y = create_input_for_nn(games)\n",
    "\n",
    "print(f\"NUMBER OF SAMPLES: {len(y)}\")"
   ]
  },
  {
   "cell_type": "code",
   "execution_count": 8,
   "metadata": {},
   "outputs": [],
   "source": [
    "X = X[0:2500000]\n",
    "y = y[0:2500000]"
   ]
  },
  {
   "cell_type": "code",
   "execution_count": 9,
   "metadata": {},
   "outputs": [],
   "source": [
    "y, move_to_int = encode_moves(y)\n",
    "num_classes = len(move_to_int)"
   ]
  },
  {
   "cell_type": "code",
   "execution_count": 10,
   "metadata": {},
   "outputs": [],
   "source": [
    "X = torch.tensor(X, dtype=torch.float32)\n",
    "y = torch.tensor(y, dtype=torch.long)"
   ]
  },
  {
   "cell_type": "markdown",
   "metadata": {},
   "source": [
    "# Preliminary actions"
   ]
  },
  {
   "cell_type": "code",
   "execution_count": 11,
   "metadata": {},
   "outputs": [
    {
     "name": "stdout",
     "output_type": "stream",
     "text": [
      "Using device: cuda\n"
     ]
    }
   ],
   "source": [
    "# Create Dataset and DataLoader\n",
    "dataset = ChessDataset(X, y)\n",
    "dataloader = DataLoader(dataset, batch_size=64, shuffle=True)\n",
    "\n",
    "# Check for GPU\n",
    "device = torch.device(\"cuda\" if torch.cuda.is_available() else \"cpu\")\n",
    "print(f'Using device: {device}')\n",
    "\n",
    "# Model Initialization\n",
    "model = ChessModel(num_classes=num_classes).to(device)\n",
    "criterion = nn.CrossEntropyLoss()\n",
    "optimizer = optim.Adam(model.parameters(), lr=0.0001)"
   ]
  },
  {
   "cell_type": "code",
   "execution_count": 12,
   "metadata": {},
   "outputs": [],
   "source": [
    "def evaluate_material(board: chess.Board):\n",
    "    piece_values = {\n",
    "        'p': 1, 'n': 3, 'b': 3, 'r': 5, 'q': 9, 'k': 0,  # Noir\n",
    "        'P': 1, 'N': 3, 'B': 3, 'R': 5, 'Q': 9, 'K': 0   # Blanc\n",
    "    }\n",
    "    material = 0\n",
    "    for piece in board.board_fen():\n",
    "        if piece.isalpha():\n",
    "            material += piece_values[piece]\n",
    "    return material"
   ]
  },
  {
   "cell_type": "markdown",
   "metadata": {},
   "source": [
    "# Training"
   ]
  },
  {
   "cell_type": "code",
   "execution_count": null,
   "metadata": {},
   "outputs": [],
   "source": [
    "def custom_loss_function(outputs, labels, boards, criterion, device):\n",
    "    \"\"\"\n",
    "    Combinaison de la perte classique et d'une pénalité pour perte matérielle.\n",
    "    \"\"\"\n",
    "    # Perte classique (CrossEntropyLoss)\n",
    "    loss = criterion(outputs, labels)\n",
    "    \n",
    "    # Calcul de la pénalité pour perte matérielle\n",
    "    material_penalty = 0.0\n",
    "    for i, board in enumerate(boards):\n",
    "        # Évaluer le matériel avant le coup\n",
    "        material_before = evaluate_material(board)\n",
    "        \n",
    "        # Récupérer les coups légaux\n",
    "        legal_moves = list(board.legal_moves)\n",
    "        \n",
    "        # Vérifier si l'indice est valide\n",
    "        move = labels[i].item()\n",
    "        if move < 0 or move >= len(legal_moves):\n",
    "            print(f\"Invalid move index: {move}, skipping...\")\n",
    "            continue\n",
    "        \n",
    "        # Simuler le coup correspondant à l'output\n",
    "        uci_move = legal_moves[move].uci()\n",
    "        board.push_uci(uci_move)\n",
    "        \n",
    "        # Évaluer le matériel après le coup\n",
    "        material_after = evaluate_material(board)\n",
    "        \n",
    "        # Calculer la perte matérielle\n",
    "        material_penalty += max(0, material_before - material_after)\n",
    "        \n",
    "        # Annuler le coup pour restaurer l'état initial\n",
    "        board.pop()\n",
    "    \n",
    "    # Normaliser la pénalité\n",
    "    material_penalty = torch.tensor(material_penalty / len(boards), device=device)\n",
    "    \n",
    "    # Combiner les deux pertes\n",
    "    total_loss = loss + 0.01 * material_penalty  # Ajustez le coefficient (0.01) selon vos besoins\n",
    "    return total_loss"
   ]
  },
  {
   "cell_type": "code",
   "execution_count": 20,
   "metadata": {},
   "outputs": [
    {
     "name": "stderr",
     "output_type": "stream",
     "text": [
      "  0%|          | 0/13135 [00:00<?, ?it/s]"
     ]
    },
    {
     "name": "stdout",
     "output_type": "stream",
     "text": [
      "Invalid move index: 1465, skipping...\n",
      "Invalid move index: 212, skipping...\n",
      "Invalid move index: 176, skipping...\n",
      "Invalid move index: 1457, skipping...\n",
      "Invalid move index: 1825, skipping...\n",
      "Invalid move index: 1460, skipping...\n",
      "Invalid move index: 410, skipping...\n",
      "Invalid move index: 390, skipping...\n",
      "Invalid move index: 819, skipping...\n",
      "Invalid move index: 111, skipping...\n",
      "Invalid move index: 262, skipping...\n",
      "Invalid move index: 698, skipping...\n",
      "Invalid move index: 1228, skipping...\n",
      "Invalid move index: 1524, skipping...\n",
      "Invalid move index: 1465, skipping...\n",
      "Invalid move index: 1334, skipping...\n",
      "Invalid move index: 1703, skipping...\n",
      "Invalid move index: 780, skipping...\n",
      "Invalid move index: 877, skipping...\n",
      "Invalid move index: 1091, skipping...\n",
      "Invalid move index: 1394, skipping...\n",
      "Invalid move index: 1830, skipping...\n",
      "Invalid move index: 728, skipping...\n",
      "Invalid move index: 587, skipping...\n",
      "Invalid move index: 1131, skipping...\n",
      "Invalid move index: 1223, skipping...\n",
      "Invalid move index: 618, skipping...\n",
      "Invalid move index: 1192, skipping...\n",
      "Invalid move index: 439, skipping...\n",
      "Invalid move index: 321, skipping...\n",
      "Invalid move index: 491, skipping...\n",
      "Invalid move index: 25, skipping...\n",
      "Invalid move index: 556, skipping...\n",
      "Invalid move index: 545, skipping...\n",
      "Invalid move index: 956, skipping...\n",
      "Invalid move index: 1208, skipping...\n",
      "Invalid move index: 1764, skipping...\n",
      "Invalid move index: 570, skipping...\n",
      "Invalid move index: 843, skipping...\n",
      "Invalid move index: 1568, skipping...\n",
      "Invalid move index: 1767, skipping...\n",
      "Invalid move index: 262, skipping...\n",
      "Invalid move index: 559, skipping...\n",
      "Invalid move index: 561, skipping...\n",
      "Invalid move index: 589, skipping...\n",
      "Invalid move index: 758, skipping...\n",
      "Invalid move index: 1464, skipping...\n",
      "Invalid move index: 1609, skipping...\n",
      "Invalid move index: 46, skipping...\n",
      "Invalid move index: 1524, skipping...\n",
      "Invalid move index: 653, skipping...\n",
      "Invalid move index: 1849, skipping...\n",
      "Invalid move index: 1465, skipping...\n",
      "Invalid move index: 1366, skipping...\n",
      "Invalid move index: 1026, skipping...\n",
      "Invalid move index: 957, skipping...\n",
      "Invalid move index: 691, skipping...\n",
      "Invalid move index: 1833, skipping...\n",
      "Invalid move index: 378, skipping...\n",
      "Invalid move index: 347, skipping...\n",
      "Invalid move index: 201, skipping...\n",
      "Invalid move index: 957, skipping...\n",
      "Invalid move index: 1853, skipping...\n"
     ]
    },
    {
     "name": "stderr",
     "output_type": "stream",
     "text": [
      "\n"
     ]
    },
    {
     "ename": "IndexError",
     "evalue": "index 64 is out of bounds for dimension 0 with size 64",
     "output_type": "error",
     "traceback": [
      "\u001b[0;31m---------------------------------------------------------------------------\u001b[0m",
      "\u001b[0;31mIndexError\u001b[0m                                Traceback (most recent call last)",
      "Cell \u001b[0;32mIn[20], line 17\u001b[0m\n\u001b[1;32m     14\u001b[0m boards \u001b[38;5;241m=\u001b[39m [game\u001b[38;5;241m.\u001b[39mboard() \u001b[38;5;28;01mfor\u001b[39;00m game \u001b[38;5;129;01min\u001b[39;00m games]  \u001b[38;5;66;03m# Assurez-vous que `games` est accessible ici\u001b[39;00m\n\u001b[1;32m     16\u001b[0m \u001b[38;5;66;03m# Calculer la perte personnalisée\u001b[39;00m\n\u001b[0;32m---> 17\u001b[0m loss \u001b[38;5;241m=\u001b[39m \u001b[43mcustom_loss_function\u001b[49m\u001b[43m(\u001b[49m\u001b[43moutputs\u001b[49m\u001b[43m,\u001b[49m\u001b[43m \u001b[49m\u001b[43mlabels\u001b[49m\u001b[43m,\u001b[49m\u001b[43m \u001b[49m\u001b[43mboards\u001b[49m\u001b[43m,\u001b[49m\u001b[43m \u001b[49m\u001b[43mcriterion\u001b[49m\u001b[43m,\u001b[49m\u001b[43m \u001b[49m\u001b[43mdevice\u001b[49m\u001b[43m)\u001b[49m\n\u001b[1;32m     18\u001b[0m loss\u001b[38;5;241m.\u001b[39mbackward()\n\u001b[1;32m     20\u001b[0m \u001b[38;5;66;03m# Gradient clipping\u001b[39;00m\n",
      "Cell \u001b[0;32mIn[19], line 18\u001b[0m, in \u001b[0;36mcustom_loss_function\u001b[0;34m(outputs, labels, boards, criterion, device)\u001b[0m\n\u001b[1;32m     15\u001b[0m legal_moves \u001b[38;5;241m=\u001b[39m \u001b[38;5;28mlist\u001b[39m(board\u001b[38;5;241m.\u001b[39mlegal_moves)\n\u001b[1;32m     17\u001b[0m \u001b[38;5;66;03m# Vérifier si l'indice est valide\u001b[39;00m\n\u001b[0;32m---> 18\u001b[0m move \u001b[38;5;241m=\u001b[39m \u001b[43mlabels\u001b[49m\u001b[43m[\u001b[49m\u001b[43mi\u001b[49m\u001b[43m]\u001b[49m\u001b[38;5;241m.\u001b[39mitem()\n\u001b[1;32m     19\u001b[0m \u001b[38;5;28;01mif\u001b[39;00m move \u001b[38;5;241m<\u001b[39m \u001b[38;5;241m0\u001b[39m \u001b[38;5;129;01mor\u001b[39;00m move \u001b[38;5;241m>\u001b[39m\u001b[38;5;241m=\u001b[39m \u001b[38;5;28mlen\u001b[39m(legal_moves):\n\u001b[1;32m     20\u001b[0m     \u001b[38;5;28mprint\u001b[39m(\u001b[38;5;124mf\u001b[39m\u001b[38;5;124m\"\u001b[39m\u001b[38;5;124mInvalid move index: \u001b[39m\u001b[38;5;132;01m{\u001b[39;00mmove\u001b[38;5;132;01m}\u001b[39;00m\u001b[38;5;124m, skipping...\u001b[39m\u001b[38;5;124m\"\u001b[39m)\n",
      "\u001b[0;31mIndexError\u001b[0m: index 64 is out of bounds for dimension 0 with size 64"
     ]
    }
   ],
   "source": [
    "num_epochs = 50\n",
    "for epoch in range(num_epochs):\n",
    "    start_time = time.time()\n",
    "    model.train()\n",
    "    running_loss = 0.0\n",
    "    for inputs, labels in tqdm(dataloader):\n",
    "        inputs, labels = inputs.to(device), labels.to(device)  # Move data to GPU\n",
    "        optimizer.zero_grad()\n",
    "\n",
    "        # Obtenir les prédictions du modèle\n",
    "        outputs = model(inputs)  # Raw logits\n",
    "\n",
    "        # Créer une liste des échiquiers correspondants\n",
    "        boards = [game.board() for game in games]  # Assurez-vous que `games` est accessible ici\n",
    "\n",
    "        # Calculer la perte personnalisée\n",
    "        loss = custom_loss_function(outputs, labels, boards, criterion, device)\n",
    "        loss.backward()\n",
    "        \n",
    "        # Gradient clipping\n",
    "        torch.nn.utils.clip_grad_norm_(model.parameters(), max_norm=1.0)\n",
    "        \n",
    "        optimizer.step()\n",
    "        running_loss += loss.item()\n",
    "    end_time = time.time()\n",
    "    epoch_time = end_time - start_time\n",
    "    minutes: int = int(epoch_time // 60)\n",
    "    seconds: int = int(epoch_time) - minutes * 60\n",
    "    print(f'Epoch {epoch + 1}/{num_epochs}, Loss: {running_loss / len(dataloader):.4f}, Time: {minutes}m{seconds}s')"
   ]
  },
  {
   "cell_type": "code",
   "execution_count": 20,
   "metadata": {},
   "outputs": [
    {
     "name": "stderr",
     "output_type": "stream",
     "text": [
      "100%|██████████| 2701/2701 [00:05<00:00, 453.63it/s]\n"
     ]
    },
    {
     "name": "stdout",
     "output_type": "stream",
     "text": [
      "Epoch 1/50, Loss: 5.9271, Time: 0m5s\n"
     ]
    },
    {
     "name": "stderr",
     "output_type": "stream",
     "text": [
      "100%|██████████| 2701/2701 [00:05<00:00, 453.07it/s]\n"
     ]
    },
    {
     "name": "stdout",
     "output_type": "stream",
     "text": [
      "Epoch 2/50, Loss: 5.2826, Time: 0m5s\n"
     ]
    },
    {
     "name": "stderr",
     "output_type": "stream",
     "text": [
      " 41%|████      | 1104/2701 [00:02<00:03, 457.79it/s]\n"
     ]
    },
    {
     "ename": "KeyboardInterrupt",
     "evalue": "",
     "output_type": "error",
     "traceback": [
      "\u001b[0;31m---------------------------------------------------------------------------\u001b[0m",
      "\u001b[0;31mKeyboardInterrupt\u001b[0m                         Traceback (most recent call last)",
      "Cell \u001b[0;32mIn[20], line 20\u001b[0m\n\u001b[1;32m     17\u001b[0m     torch\u001b[38;5;241m.\u001b[39mnn\u001b[38;5;241m.\u001b[39mutils\u001b[38;5;241m.\u001b[39mclip_grad_norm_(model\u001b[38;5;241m.\u001b[39mparameters(), max_norm\u001b[38;5;241m=\u001b[39m\u001b[38;5;241m1.0\u001b[39m)\n\u001b[1;32m     19\u001b[0m     optimizer\u001b[38;5;241m.\u001b[39mstep()\n\u001b[0;32m---> 20\u001b[0m     running_loss \u001b[38;5;241m+\u001b[39m\u001b[38;5;241m=\u001b[39m \u001b[43mloss\u001b[49m\u001b[38;5;241;43m.\u001b[39;49m\u001b[43mitem\u001b[49m\u001b[43m(\u001b[49m\u001b[43m)\u001b[49m\n\u001b[1;32m     21\u001b[0m end_time \u001b[38;5;241m=\u001b[39m time\u001b[38;5;241m.\u001b[39mtime()\n\u001b[1;32m     22\u001b[0m epoch_time \u001b[38;5;241m=\u001b[39m end_time \u001b[38;5;241m-\u001b[39m start_time\n",
      "\u001b[0;31mKeyboardInterrupt\u001b[0m: "
     ]
    }
   ],
   "source": [
    "num_epochs = 50\n",
    "for epoch in range(num_epochs):\n",
    "    start_time = time.time()\n",
    "    model.train()\n",
    "    running_loss = 0.0\n",
    "    for inputs, labels in tqdm(dataloader):\n",
    "        inputs, labels = inputs.to(device), labels.to(device)  # Move data to GPU\n",
    "        optimizer.zero_grad()\n",
    "\n",
    "        outputs = model(inputs)  # Raw logits\n",
    "\n",
    "        # Compute loss\n",
    "        loss = criterion(outputs, labels)\n",
    "        loss.backward()\n",
    "        \n",
    "        # Gradient clipping\n",
    "        torch.nn.utils.clip_grad_norm_(model.parameters(), max_norm=1.0)\n",
    "        \n",
    "        optimizer.step()\n",
    "        running_loss += loss.item()\n",
    "    end_time = time.time()\n",
    "    epoch_time = end_time - start_time\n",
    "    minutes: int = int(epoch_time // 60)\n",
    "    seconds: int = int(epoch_time) - minutes * 60\n",
    "    print(f'Epoch {epoch + 1}/{num_epochs}, Loss: {running_loss / len(dataloader):.4f}, Time: {minutes}m{seconds}s')"
   ]
  },
  {
   "cell_type": "markdown",
   "metadata": {},
   "source": [
    "# Save the model and mapping"
   ]
  },
  {
   "cell_type": "code",
   "execution_count": 18,
   "metadata": {},
   "outputs": [],
   "source": [
    "# Save the model\n",
    "torch.save(model.state_dict(), \"../../models/TORCH_100EPOCHS.pth\")"
   ]
  },
  {
   "cell_type": "code",
   "execution_count": 16,
   "metadata": {},
   "outputs": [],
   "source": [
    "import pickle\n",
    "\n",
    "with open(\"../../models/heavy_move_to_int\", \"wb\") as file:\n",
    "    pickle.dump(move_to_int, file)"
   ]
  }
 ],
 "metadata": {
  "kernelspec": {
   "display_name": "chess-engine",
   "language": "python",
   "name": "python3"
  },
  "language_info": {
   "codemirror_mode": {
    "name": "ipython",
    "version": 3
   },
   "file_extension": ".py",
   "mimetype": "text/x-python",
   "name": "python",
   "nbconvert_exporter": "python",
   "pygments_lexer": "ipython3",
   "version": "3.10.16"
  }
 },
 "nbformat": 4,
 "nbformat_minor": 2
}
